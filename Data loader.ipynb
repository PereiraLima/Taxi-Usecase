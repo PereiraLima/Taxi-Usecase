{
 "cells": [
  {
   "cell_type": "code",
   "execution_count": 13,
   "metadata": {},
   "outputs": [],
   "source": [
    "import pandas as pd\n",
    "import tarfile\n",
    "from glob import glob\n",
    "import os"
   ]
  },
  {
   "cell_type": "code",
   "execution_count": 19,
   "metadata": {},
   "outputs": [],
   "source": [
    "# Open tarfile and exract it in 'cabspottingdata'\n",
    "tarfile=tarfile.open(\"cabspottingdata.tar.gz\")\n",
    "tarfile.extractall()\n",
    "tarfile.close()"
   ]
  },
  {
   "cell_type": "code",
   "execution_count": 20,
   "metadata": {},
   "outputs": [],
   "source": [
    "# get all txt files from directory\n",
    "filenames = glob(\"cabspottingdata/*.txt\")\n",
    "\n",
    "# setup dataframe\n",
    "dataframe = pd.DataFrame(columns = ['latitude','longitude','in_ride','epoch_time', 'taxi_id'])\n",
    "\n",
    "# concat all the file to dataframe\n",
    "for file in filenames:\n",
    "    curr_df = pd.read_csv(file, delimiter = \" \", header = None, names = ['latitude','longitude','in_ride','epoch_time'])    \n",
    "    curr_df['taxi_id'] = os.path.basename(file).replace('.txt', '')\n",
    "    dataframe = pd.concat([dataframe,curr_df])\n",
    "    "
   ]
  },
  {
   "cell_type": "code",
   "execution_count": 21,
   "metadata": {},
   "outputs": [],
   "source": [
    "# save to csv - to reuse\n",
    "# dataframe.to_csv('full_data.csv', index=False)\n",
    "\n",
    "# Save to zip file\n",
    "dataframe.to_csv('full_data.gz', compression='gzip', index=False)"
   ]
  },
  {
   "cell_type": "code",
   "execution_count": 22,
   "metadata": {},
   "outputs": [],
   "source": [
    "\n",
    "df = pd.read_csv('full_data.gz',compression='gzip')"
   ]
  }
 ],
 "metadata": {
  "kernelspec": {
   "display_name": "Python 3",
   "language": "python",
   "name": "python3"
  },
  "language_info": {
   "codemirror_mode": {
    "name": "ipython",
    "version": 3
   },
   "file_extension": ".py",
   "mimetype": "text/x-python",
   "name": "python",
   "nbconvert_exporter": "python",
   "pygments_lexer": "ipython3",
   "version": "3.7.6"
  },
  "toc": {
   "base_numbering": 1,
   "nav_menu": {},
   "number_sections": true,
   "sideBar": true,
   "skip_h1_title": false,
   "title_cell": "Table of Contents",
   "title_sidebar": "Contents",
   "toc_cell": false,
   "toc_position": {},
   "toc_section_display": true,
   "toc_window_display": false
  }
 },
 "nbformat": 4,
 "nbformat_minor": 4
}
